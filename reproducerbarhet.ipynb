{
 "cells": [
  {
   "cell_type": "markdown",
   "id": "861954c6",
   "metadata": {},
   "source": [
    "## Reproducerbarhet \n"
   ]
  },
  {
   "cell_type": "code",
   "execution_count": 1,
   "id": "c32de493",
   "metadata": {},
   "outputs": [
    {
     "name": "stdout",
     "output_type": "stream",
     "text": [
      "[ 3  6  9 12]\n"
     ]
    }
   ],
   "source": [
    "import numpy, pandas\n",
    "print(numpy.array([1, 2, 3, 4]) * 3)"
   ]
  }
 ],
 "metadata": {
  "kernelspec": {
   "display_name": ".venv",
   "language": "python",
   "name": "python3"
  },
  "language_info": {
   "codemirror_mode": {
    "name": "ipython",
    "version": 3
   },
   "file_extension": ".py",
   "mimetype": "text/x-python",
   "name": "python",
   "nbconvert_exporter": "python",
   "pygments_lexer": "ipython3",
   "version": "3.13.7"
  }
 },
 "nbformat": 4,
 "nbformat_minor": 5
}
